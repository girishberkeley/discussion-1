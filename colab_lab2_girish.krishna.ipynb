{
  "cells": [
    {
      "cell_type": "markdown",
      "metadata": {
        "id": "view-in-github",
        "colab_type": "text"
      },
      "source": [
        "<a href=\"https://colab.research.google.com/github/girishberkeley/discussion-1/blob/main/colab_lab2_girish.krishna.ipynb\" target=\"_parent\"><img src=\"https://colab.research.google.com/assets/colab-badge.svg\" alt=\"Open In Colab\"/></a>"
      ]
    },
    {
      "cell_type": "markdown",
      "metadata": {
        "id": "F5icexU1Z58I"
      },
      "source": [
        "# Lab 2: Traversals on Drug Metabolism Networks\n",
        "\n",
        "Review the lab material and go through the entire notebook. The lab contains 5 exercises for you to solve. The entire lab is worth 2.5% of your final grade and each exercise is worth 0.4% of your final grade. Going through the full notebook is worth 0.5% of your final grade. Any extra credit or bonus exercises are worth an additional 0.4%.\n",
        "\n",
        "Labs are due by Friday at 11:59 PM PST and can be submitted on BCourses assignment page for the corresponding lab."
      ]
    },
    {
      "cell_type": "markdown",
      "metadata": {
        "id": "hE574pb4ap6T"
      },
      "source": [
        "## Graph Concepts\n",
        "\n",
        "In week 4, we introduced graphs as a fundamental data structure.\n",
        "We reintroduce key graph concepts through a programmatic perspective by using the networkx library. Graph data not only contain intrinsic value, via nodes or\n",
        "vertices, but they also contain relationship value, via edges or links.\n",
        "Graphs can be used to represent a wide range of data including social\n",
        "relationships, physical networks, and business operations. Graphs can be\n",
        "undirected when the relationships between entities has no preferred\n",
        "direction or they can be directed, when a relationship is directed, such\n",
        "as parent to child or in social media when one person may follow another\n",
        "but not the other way around. Graphs can also allow or exclude\n",
        "multiple-connections  (or edges) between nodes.\n",
        "\n",
        "With the networkx library, we have the following [four types][ngt] of\n",
        "graphs:\n",
        "\n",
        "- `Graph`: a basic undirected graph,\n",
        "- `DiGraph`: a basic directed graph,\n",
        "- `MultiGraph`: an undirected graph that supports multiple edges (or\n",
        "links) between nodes, and\n",
        "- `MultiDiGraph`: a directed graph that supports multiple edges (or\n",
        "links) between nodes.\n",
        "\n",
        "In this Notebook, we will focus on the basic components of a graph:\n",
        "nodes, edges, and attributes, before moving on to the different types of\n",
        "graphs. First, we set up the basic environment of this notebook before\n",
        "introducing creating a graph and adding nodes.\n",
        "\n",
        "-----\n",
        "\n",
        "[ngt]: https://networkx.readthedocs.org/en/stable/reference/classes.html"
      ]
    },
    {
      "cell_type": "code",
      "execution_count": 1,
      "metadata": {
        "id": "FY5xqKikaiKd"
      },
      "outputs": [],
      "source": [
        "# Set up Notebook\n",
        "\n",
        "%matplotlib inline\n",
        "\n",
        "# Standard imports\n",
        "import numpy as np\n",
        "import pandas as pd\n",
        "import pprint\n",
        "import matplotlib.pyplot as plt\n",
        "import seaborn as sns\n",
        "\n",
        "# We do this to ignore several specific Pandas warnings\n",
        "import warnings\n",
        "warnings.filterwarnings(\"ignore\")"
      ]
    },
    {
      "cell_type": "markdown",
      "metadata": {
        "id": "zsJBOmsNbTMi"
      },
      "source": [
        "### Nodes\n",
        "\n",
        "The basic components in a graph are the nodes. Once we have created a\n",
        "graph, for example, by `nx.Graph` as shown below, we can begin to add\n",
        "nodes. A node can represent a number of different components, including\n",
        "a token, a document, a single person, a physical entity such as a\n",
        "computer or house, or a business. When using netowrkx, a node can be any\n",
        "Python object that is _hashable_, which essentially means nearly any\n",
        "Python object can be used as a node. While we often use simple constructs\n",
        "for nodes (since they often represent some physical construct), in some\n",
        "cases this capability can be very important.\n",
        "\n",
        "In the following code cells, we first create and draw different types of\n",
        "graphs (all of which contain no edges). First, we create a single node\n",
        "graph, whose node is the integer one. Next, we add tow more nodes, with\n",
        "the integers two and three, before expanding the graph to fourteen\n",
        "nodes, that span the integers one through fourteen. Finally, we display\n",
        "the list of nodes by calling the `nodes()` method on the graph object\n",
        "itself."
      ]
    },
    {
      "cell_type": "code",
      "execution_count": 2,
      "metadata": {
        "id": "jXcXyn-pbJfs",
        "outputId": "07d00b72-9200-4351-bb47-fca585518846",
        "colab": {
          "base_uri": "https://localhost:8080/",
          "height": 237
        }
      },
      "outputs": [
        {
          "output_type": "display_data",
          "data": {
            "text/plain": [
              "<Figure size 200x200 with 1 Axes>"
            ],
            "image/png": "[encoded data removed]"
          },
          "metadata": {}
        }
      ],
      "source": [
        "import networkx as nx\n",
        "\n",
        "# Create and draw a single node graph\n",
        "g = nx.Graph()\n",
        "g.add_node(1)\n",
        "\n",
        "plt.figure(figsize=(2,2))\n",
        "nx.draw(g)\n",
        "plt.show()"
      ]
    },
    {
      "cell_type": "code",
      "execution_count": 3,
      "metadata": {
        "id": "-SN9173WbePV",
        "outputId": "7e979b8a-1210-4ba2-c1fc-c48dbfece5ca",
        "colab": {
          "base_uri": "https://localhost:8080/",
          "height": 337
        }
      },
      "outputs": [
        {
          "output_type": "display_data",
          "data": {
            "text/plain": [
              "<Figure size 300x300 with 1 Axes>"
            ],
            "image/png": "[encoded data removed]"
          },
          "metadata": {}
        }
      ],
      "source": [
        "# Create and draw a three node graph\n",
        "\n",
        "g.add_nodes_from([2, 3])\n",
        "\n",
        "plt.figure(figsize=(3,3))\n",
        "nx.draw(g)\n",
        "plt.show()"
      ]
    },
    {
      "cell_type": "code",
      "execution_count": 4,
      "metadata": {
        "id": "08nCndSzbhNu",
        "outputId": "ae08ced7-b5a3-4dfd-cd58-1cb241044dc5",
        "colab": {
          "base_uri": "https://localhost:8080/",
          "height": 337
        }
      },
      "outputs": [
        {
          "output_type": "display_data",
          "data": {
            "text/plain": [
              "<Figure size 300x300 with 1 Axes>"
            ],
            "image/png": "[encoded data removed]"
          },
          "metadata": {}
        }
      ],
      "source": [
        "# Create and draw a fourteen node graph\n",
        "\n",
        "g.add_nodes_from(range(4, 15))\n",
        "\n",
        "plt.figure(figsize=(3, 3))\n",
        "nx.draw(g)\n",
        "plt.show()"
      ]
    },
    {
      "cell_type": "code",
      "execution_count": null,
      "metadata": {
        "id": "LZRW4ZqRbnRJ",
        "outputId": "8a32a004-41f8-4387-9f9b-520aa48711dd",
        "colab": {
          "base_uri": "https://localhost:8080/"
        }
      },
      "outputs": [
        {
          "output_type": "stream",
          "name": "stdout",
          "text": [
            "[1, 2, 3, 4, 5, 6, 7, 8, 9, 10, 11, 12, 13, 14]\n"
          ]
        }
      ],
      "source": [
        "# List nodes\n",
        "\n",
        "print(g.nodes())"
      ]
    },
    {
      "cell_type": "markdown",
      "metadata": {
        "id": "3oKAbI6vb-uq"
      },
      "source": [
        "In the next cell, we add several nodes that demonstrate using\n",
        "non-standard types. First, we add several functions to the graph, before\n",
        "adding an open file handle. We next display the list of nodes in the\n",
        "graph (showing the functions and open file handle). Following this, we\n",
        "demonstrate how to remove nodes, first by removing the non-integer nodes\n",
        "one at a time, before we remove several integer nodes in bulk."
      ]
    },
    {
      "cell_type": "code",
      "execution_count": 5,
      "metadata": {
        "id": "eQskmg_Ob3nS",
        "outputId": "6a4bb872-bc86-4952-b6f7-46b3b3505eaf",
        "colab": {
          "base_uri": "https://localhost:8080/"
        }
      },
      "outputs": [
        {
          "output_type": "stream",
          "name": "stdout",
          "text": [
            "[1, 2, 3, 4, 5, 6, 7, 8, 9, 10, 11, 12, 13, 14, 3.141592653589793, <built-in function exp>, <_io.TextIOWrapper name='tmp.dat' mode='w' encoding='utf-8'>]\n"
          ]
        }
      ],
      "source": [
        "# Build graph of mixed nodes, integers and functions\n",
        "\n",
        "import math\n",
        "\n",
        "g.add_node(math.pi)\n",
        "g.add_node(math.exp)\n",
        "\n",
        "fout = open('tmp.dat','w')\n",
        "\n",
        "g.add_node(fout)\n",
        "\n",
        "print(g.nodes())"
      ]
    },
    {
      "cell_type": "code",
      "execution_count": 6,
      "metadata": {
        "id": "B5agfvmNb7sq",
        "outputId": "4112e24e-2623-4ea6-badb-afc87ad1ce7e",
        "colab": {
          "base_uri": "https://localhost:8080/"
        }
      },
      "outputs": [
        {
          "output_type": "stream",
          "name": "stdout",
          "text": [
            "[1, 2, 3, 4, 5, 6, 7, 8, 9, 10]\n"
          ]
        }
      ],
      "source": [
        "# Remove single node\n",
        "g.remove_node(14)\n",
        "\n",
        "# Remove non integer nodes\n",
        "g.remove_node(math.pi)\n",
        "g.remove_node(math.exp)\n",
        "g.remove_node(fout)\n",
        "\n",
        "#remove list of nodes\n",
        "g.remove_nodes_from([11, 12, 13])\n",
        "\n",
        "#show results\n",
        "print(g.nodes())"
      ]
    },
    {
      "cell_type": "markdown",
      "metadata": {
        "id": "Ud7CeOjOcWV8"
      },
      "source": [
        "### Edges\n",
        "\n",
        "On their own, nodes aren't very different than other data we have\n",
        "analyzed. The major change with graph (or networkx) data is the\n",
        "relationships between nodes. These relationships are modeled by using\n",
        "edges. An edge can be undirected, meaning each node is the same in the\n",
        "relationship, or the edge can be directed, which means there is a\n",
        "preferred direction, of course the edge could be bi-directional. The\n",
        "former is handled with an undirected graph, while the latter is handled\n",
        "with a directed graph. As an example, when using Facebook, two\n",
        "individuals are friends with each other (via a request), thus the edge\n",
        "is undirected, whereas in Twitter one individual might follow another\n",
        "individual, leading to a directed edge. Of course if two Twitter users\n",
        "follow each other, we have a bi-directional edge (it is still\n",
        "directional since other edge will all be directed, just possibly in one\n",
        "direction.\n",
        "\n",
        "In the following code cells, we demonstrate adding edges to a graph. We\n",
        "first add a single edge, by listing the starting and ending nodes,\n",
        "before adding multiple edges by supplying a list of tuples, where each\n",
        "tuple provides the initial and ending node. Following this, we\n",
        "demonstrate several different methods for drawing the same graph. These\n",
        "techniques differ based on the mechanism by which nodes are laid out,\n",
        "which can be affected by the edges in the graph."
      ]
    },
    {
      "cell_type": "code",
      "execution_count": 7,
      "metadata": {
        "id": "BgJ7znaqcTnj",
        "outputId": "9e751e44-fa9f-4d85-ee8f-bdf5f287b797",
        "colab": {
          "base_uri": "https://localhost:8080/",
          "height": 516
        }
      },
      "outputs": [
        {
          "output_type": "display_data",
          "data": {
            "text/plain": [
              "<Figure size 640x480 with 1 Axes>"
            ],
            "image/png": "[encoded data removed]"
          },
          "metadata": {}
        }
      ],
      "source": [
        "# Add single edge\n",
        "\n",
        "g.add_edge(0, 1)\n",
        "\n",
        "edgs = (3, 6)\n",
        "g.add_edge(*edgs)\n",
        "\n",
        "nx.draw(g)\n",
        "plt.show()"
      ]
    },
    {
      "cell_type": "code",
      "execution_count": 8,
      "metadata": {
        "id": "6A44_S7_cgZC",
        "outputId": "75110191-7e27-49f9-fdc4-6c53bfd6b175",
        "colab": {
          "base_uri": "https://localhost:8080/",
          "height": 436
        }
      },
      "outputs": [
        {
          "output_type": "display_data",
          "data": {
            "text/plain": [
              "<Figure size 400x400 with 1 Axes>"
            ],
            "image/png": "[encoded data removed]"
          },
          "metadata": {}
        }
      ],
      "source": [
        "# Remove edge\n",
        "g.remove_edge(0, 1)\n",
        "\n",
        "# now add new edges en masse.\n",
        "edgs = [(idx, idx + 1) for idx in range(g.order())]\n",
        "g.add_edges_from(edgs)\n",
        "\n",
        "# Draw graph\n",
        "plt.figure(figsize=(4, 4))\n",
        "nx.draw(g)\n",
        "plt.show()"
      ]
    },
    {
      "cell_type": "code",
      "execution_count": 9,
      "metadata": {
        "id": "-Nd62jc5c2oq",
        "outputId": "60e1f5a6-25c0-40a6-8aec-66c43c8a85c7",
        "colab": {
          "base_uri": "https://localhost:8080/",
          "height": 436
        }
      },
      "outputs": [
        {
          "output_type": "display_data",
          "data": {
            "text/plain": [
              "<Figure size 400x400 with 1 Axes>"
            ],
            "image/png": "[encoded data removed]"
          },
          "metadata": {}
        }
      ],
      "source": [
        "plt.figure(figsize=(4, 4))\n",
        "nx.draw_circular(g)\n",
        "plt.show()"
      ]
    },
    {
      "cell_type": "code",
      "execution_count": 10,
      "metadata": {
        "id": "QMSoGOnIc51x",
        "outputId": "612580cd-871e-4955-fb5b-f203635bd0b8",
        "colab": {
          "base_uri": "https://localhost:8080/",
          "height": 453
        }
      },
      "outputs": [
        {
          "output_type": "stream",
          "name": "stdout",
          "text": [
            "[0, 1, 2, 3, 4, 5, 6, 7, 8, 9, 10]\n"
          ]
        },
        {
          "output_type": "display_data",
          "data": {
            "text/plain": [
              "<Figure size 400x400 with 1 Axes>"
            ],
            "image/png": "[encoded data removed]"
          },
          "metadata": {}
        }
      ],
      "source": [
        "# Shortcut to make this graph\n",
        "h = nx.path_graph(11)\n",
        "print(h.nodes())\n",
        "\n",
        "# Draw graph in circular format\n",
        "plt.figure(figsize=(4, 4))\n",
        "nx.draw_circular(h, with_labels=True)\n",
        "plt.show()"
      ]
    },
    {
      "cell_type": "code",
      "execution_count": 11,
      "metadata": {
        "id": "AKIpSfVJc8sR",
        "outputId": "9d380048-93d5-4aa1-e5fa-513dd0f8153c",
        "colab": {
          "base_uri": "https://localhost:8080/",
          "height": 422
        }
      },
      "outputs": [
        {
          "output_type": "display_data",
          "data": {
            "text/plain": [
              "<Figure size 500x500 with 1 Axes>"
            ],
            "image/png": "[encoded data removed]"
          },
          "metadata": {}
        }
      ],
      "source": [
        "plt.figure(figsize=(5, 5))\n",
        "\n",
        "# Draw graph in networkx format\n",
        "nx.draw_networkx(g)\n",
        "plt.show()"
      ]
    },
    {
      "cell_type": "code",
      "execution_count": 12,
      "metadata": {
        "id": "-_QUCuhyc_IK",
        "outputId": "bbd3246f-6503-43b8-aba1-8e05d7724e13",
        "colab": {
          "base_uri": "https://localhost:8080/",
          "height": 422
        }
      },
      "outputs": [
        {
          "output_type": "display_data",
          "data": {
            "text/plain": [
              "<Figure size 500x500 with 1 Axes>"
            ],
            "image/png": "[encoded data removed]"
          },
          "metadata": {}
        }
      ],
      "source": [
        "# Plot and specify node positions\n",
        "\n",
        "plt.figure(figsize=(5, 5))\n",
        "pos=nx.circular_layout(g)\n",
        "nx.draw_networkx(g, pos)\n",
        "nx.draw_networkx_labels(g, pos)\n",
        "plt.show()"
      ]
    },
    {
      "cell_type": "markdown",
      "metadata": {
        "id": "cC-eOhd0dIa8"
      },
      "source": [
        "We also can create nodes by using string values. In the following cells,\n",
        "we create an undirected graph and add five nodes with string values for\n",
        "one through five, before adding different edges between these nodes,\n",
        "creating a kite like graph. We next display basic graph properties, such\n",
        "as the number of nodes and edges, the list of nodes and edges, and the\n",
        "number of neighbors (via the edge connections) to several different\n",
        "nodes."
      ]
    },
    {
      "cell_type": "code",
      "execution_count": 17,
      "metadata": {
        "id": "MBU7AY4CdIt4",
        "outputId": "80a48f75-66b3-43cb-fb08-5fe592eace4d",
        "colab": {
          "base_uri": "https://localhost:8080/",
          "height": 406
        }
      },
      "outputs": [
        {
          "output_type": "display_data",
          "data": {
            "text/plain": [
              "<Figure size 640x480 with 1 Axes>"
            ],
            "image/png": "[encoded data removed]"
          },
          "metadata": {}
        }
      ],
      "source": [
        "# Create a new arbitrary graph by hand, with string labels\n",
        "\n",
        "g = nx.Graph()\n",
        "g.add_node('1')\n",
        "g.add_node('2')\n",
        "g.add_node('3')\n",
        "g.add_node('4')\n",
        "g.add_node('5')\n",
        "g.add_edge('1', '2')\n",
        "g.add_edge('2', '3')\n",
        "g.add_edge('3', '4')\n",
        "g.add_edge('4', '1')\n",
        "g.add_edge('4', '5')\n",
        "\n",
        "# plot graph\n",
        "nx.draw_networkx(g)\n",
        "plt.show()"
      ]
    },
    {
      "cell_type": "code",
      "execution_count": 18,
      "metadata": {
        "id": "6lIGmfKMd2Ts",
        "outputId": "994334f2-6f5c-416e-a2fa-74b77f127938",
        "colab": {
          "base_uri": "https://localhost:8080/"
        }
      },
      "outputs": [
        {
          "output_type": "stream",
          "name": "stdout",
          "text": [
            "Graph has 5 nodes and 5 edges\n",
            "\n",
            "Nodes in the Graph:\n",
            "['1', '2', '3', '4', '5']\n",
            "\n",
            "Edges in the Graph:\n",
            "[('1', '2'), ('1', '4'), ('2', '3'), ('3', '4'), ('4', '5')]\n",
            "\n",
            "Neighbors to node #4\n",
            "3\n",
            "\n",
            "Neighbors to node #4\n",
            "<dict_keyiterator object at 0x7ecd57c8f600>\n"
          ]
        }
      ],
      "source": [
        "n_nds = g.order() # or g.number_of_nodes()\n",
        "n_edgs = g.size() # or g.number_of_edges()\n",
        "print('Graph has {0} nodes and {1} edges'.format(n_nds, n_edgs))\n",
        "\n",
        "print('\\nNodes in the Graph:')\n",
        "print(g.nodes())\n",
        "\n",
        "print('\\nEdges in the Graph:')\n",
        "print(g.edges())\n",
        "\n",
        "nd = '4'\n",
        "\n",
        "# The node degree is the number of edges adjacent to that node.\n",
        "print('\\nNeighbors to node #{0}'.format(nd))\n",
        "print(g.degree(nd))\n",
        "\n",
        "# List neihgbors\n",
        "print('\\nNeighbors to node #{0}'.format(nd))\n",
        "print(g.neighbors(nd))"
      ]
    },
    {
      "cell_type": "markdown",
      "metadata": {
        "id": "g2791j_3d67U"
      },
      "source": [
        "### Attributes\n",
        "\n",
        "Each entity in the graph, including the graph itself, can possess\n",
        "individual attributes. For example, a node can have a `name` attribute,\n",
        "while a different node can have the `name` attribute and a `type`\n",
        "attribute. Attributes can be defined at creation time or at later times,\n",
        "and some entities have _special_ attributes, such as the `weight`\n",
        "attribute for an edge. The attributes of the graph, node, or edge are\n",
        "maintained in a dictionary, and are thus accessed by using dictionary\n",
        "access methods. In the following cells, we demonstrate how to create or\n",
        "add attributes to the graph, to nodes, and to edges."
      ]
    },
    {
      "cell_type": "code",
      "execution_count": 19,
      "metadata": {
        "id": "RjLKYfHVd_Ja",
        "outputId": "8f396d5b-a394-4936-cb92-ea0ecb83f851",
        "colab": {
          "base_uri": "https://localhost:8080/",
          "height": 461
        }
      },
      "outputs": [
        {
          "output_type": "stream",
          "name": "stdout",
          "text": [
            "{'my_name': 'Test', 'type': 'Demo'}\n"
          ]
        },
        {
          "output_type": "display_data",
          "data": {
            "text/plain": [
              "<Figure size 500x500 with 1 Axes>"
            ],
            "image/png": "[encoded data removed]"
          },
          "metadata": {}
        }
      ],
      "source": [
        "# Graph Attributes\n",
        "\n",
        "# Specify an attribute at graph creation\n",
        "g = nx.Graph(my_name = 'Test')\n",
        "g.add_nodes_from(range(6))\n",
        "\n",
        "# Add an attribute by using dictionary\n",
        "g.graph['type'] = 'Demo'\n",
        "print(g.graph)\n",
        "\n",
        "# Set a default attribute\n",
        "g.name = 'Noah\\'s Graph!'\n",
        "\n",
        "plt.figure(figsize=(5, 5))\n",
        "nx.draw_networkx(g)\n",
        "plt.title(g.name)\n",
        "plt.show()"
      ]
    },
    {
      "cell_type": "code",
      "execution_count": 20,
      "metadata": {
        "id": "Y1stONU8eJf0",
        "outputId": "19b8b01d-5325-4468-88ec-08092875f970",
        "colab": {
          "base_uri": "https://localhost:8080/"
        }
      },
      "outputs": [
        {
          "output_type": "stream",
          "name": "stdout",
          "text": [
            "6 {'name': 'Robert'}\n",
            "Node 6 name = Robert\n",
            "5 {'name': 'Edward'}\n",
            "Node 5 name = Edward\n"
          ]
        }
      ],
      "source": [
        "# Node attributes\n",
        "\n",
        "nd = 6\n",
        "g.add_node(nd, name='Robert')\n",
        "print(nd, g.nodes[nd])\n",
        "print('Node {0} name = {1}'.format(nd, g.nodes[nd]['name']))\n",
        "\n",
        "nd = 5\n",
        "g.nodes[nd]['name'] = 'Edward'\n",
        "print(nd, g.nodes[nd])\n",
        "print('Node {0} name = {1}'.format(nd, g.nodes[nd]['name']))"
      ]
    },
    {
      "cell_type": "code",
      "execution_count": 21,
      "metadata": {
        "id": "ETOIKxZaekAj",
        "outputId": "8df848b3-f8a4-4dc7-f3a3-a386586fae8b",
        "colab": {
          "base_uri": "https://localhost:8080/"
        }
      },
      "outputs": [
        {
          "output_type": "stream",
          "name": "stdout",
          "text": [
            "{'rltn': 'friends'}\n",
            "{'weight': 10.0}\n"
          ]
        }
      ],
      "source": [
        "# Edge attributes\n",
        "\n",
        "# Specify attribute at edge creation\n",
        "g.add_edge('1', 6, rltn='friends')\n",
        "print(g['1'][6])\n",
        "\n",
        "# Special edge attribute is weight\n",
        "g.add_edge('1', '3', weight=10.0)\n",
        "print(g['1']['3'])\n",
        "\n",
        "# Add multuple weight attribtues\n",
        "g.add_edges_from([(idx, idx + 1, {'weight': (idx + 1) * 10})\n",
        "                  for idx in range(g.order())])"
      ]
    },
    {
      "cell_type": "code",
      "execution_count": 22,
      "metadata": {
        "id": "G8kdVHACengq",
        "outputId": "ba96a82c-94f4-478a-fcfb-c26d2368ba4e",
        "colab": {
          "base_uri": "https://localhost:8080/",
          "height": 423
        }
      },
      "outputs": [
        {
          "output_type": "stream",
          "name": "stdout",
          "text": [
            "[0, 1, 2, 3, 4, 5, 6, '1', '3', 7, 8, 9]\n"
          ]
        },
        {
          "output_type": "display_data",
          "data": {
            "text/plain": [
              "<Figure size 640x480 with 1 Axes>"
            ],
            "image/png": "[encoded data removed]"
          },
          "metadata": {}
        }
      ],
      "source": [
        "# Now list the nodes and draw the graph\n",
        "\n",
        "print(g.nodes())\n",
        "\n",
        "nx.draw_networkx(g)\n",
        "plt.show()"
      ]
    },
    {
      "cell_type": "markdown",
      "metadata": {
        "id": "ruspxM0fe_oC"
      },
      "source": [
        "### Matrix Representations\n",
        "\n",
        "The relationships between nodes in a graph can be [represented\n",
        "numerically][nla] as matrices. The two most used matrix representations\n",
        "are the [adjacency matrix][wam] and the [incidence matrix][wim]. We\n",
        "demonstrate these two matrices for the graph created in the previous few\n",
        "code cells below. The adjacency matrix contains edges connecting node\n",
        "`i` to node `j` with an entry in position `i`, `j` in the matrix, and\n",
        "the value in the matrix can be the weight of the edge connecting the\n",
        "two nodes. The incidence matrix, on the other hand, represents each node\n",
        "as a row in the matrix and each edge as a column. Thus a value of one,\n",
        "in a standard incidence matrix, shows where an edge connects to a node.\n",
        "Note, how the adjacency matrix includes the weights of the edges\n",
        "connecting different nodes.\n",
        "\n",
        "[nla]: https://networkx.readthedocs.org/en/stable/reference/linalg.html\n",
        "[wam]: https://en.wikipedia.org/wiki/Adjacency_matrix\n",
        "[wim]: https://en.wikipedia.org/wiki/Incidence_matrix"
      ]
    },
    {
      "cell_type": "code",
      "execution_count": 23,
      "metadata": {
        "id": "rdmmKV4VfCab",
        "outputId": "790c6ede-3420-44cf-e3d4-ae20bad9ba47",
        "colab": {
          "base_uri": "https://localhost:8080/"
        }
      },
      "outputs": [
        {
          "output_type": "stream",
          "name": "stdout",
          "text": [
            "[[ 0. 10.  0.  0.  0.  0.  0.  0.  0.  0.  0.  0.]\n",
            " [10.  0. 20.  0.  0.  0.  0.  0.  0.  0.  0.  0.]\n",
            " [ 0. 20.  0. 30.  0.  0.  0.  0.  0.  0.  0.  0.]\n",
            " [ 0.  0. 30.  0. 40.  0.  0.  0.  0.  0.  0.  0.]\n",
            " [ 0.  0.  0. 40.  0. 50.  0.  0.  0.  0.  0.  0.]\n",
            " [ 0.  0.  0.  0. 50.  0. 60.  0.  0.  0.  0.  0.]\n",
            " [ 0.  0.  0.  0.  0. 60.  0.  1.  0. 70.  0.  0.]\n",
            " [ 0.  0.  0.  0.  0.  0.  1.  0. 10.  0.  0.  0.]\n",
            " [ 0.  0.  0.  0.  0.  0.  0. 10.  0.  0.  0.  0.]\n",
            " [ 0.  0.  0.  0.  0.  0. 70.  0.  0.  0. 80.  0.]\n",
            " [ 0.  0.  0.  0.  0.  0.  0.  0.  0. 80.  0. 90.]\n",
            " [ 0.  0.  0.  0.  0.  0.  0.  0.  0.  0. 90.  0.]]\n"
          ]
        }
      ],
      "source": [
        "# Adjacency Matrix\n",
        "adj_mat = nx.adjacency_matrix(g)\n",
        "\n",
        "print(adj_mat.todense())"
      ]
    },
    {
      "cell_type": "code",
      "execution_count": 24,
      "metadata": {
        "id": "kKaTeAO5fGdd",
        "outputId": "6b2f510d-1501-45f9-9be9-52ad57cfd431",
        "colab": {
          "base_uri": "https://localhost:8080/"
        }
      },
      "outputs": [
        {
          "output_type": "stream",
          "name": "stdout",
          "text": [
            "[[1. 0. 0. 0. 0. 0. 0. 0. 0. 0. 0.]\n",
            " [1. 1. 0. 0. 0. 0. 0. 0. 0. 0. 0.]\n",
            " [0. 1. 1. 0. 0. 0. 0. 0. 0. 0. 0.]\n",
            " [0. 0. 1. 1. 0. 0. 0. 0. 0. 0. 0.]\n",
            " [0. 0. 0. 1. 1. 0. 0. 0. 0. 0. 0.]\n",
            " [0. 0. 0. 0. 1. 1. 0. 0. 0. 0. 0.]\n",
            " [0. 0. 0. 0. 0. 1. 1. 1. 0. 0. 0.]\n",
            " [0. 0. 0. 0. 0. 0. 1. 0. 1. 0. 0.]\n",
            " [0. 0. 0. 0. 0. 0. 0. 0. 1. 0. 0.]\n",
            " [0. 0. 0. 0. 0. 0. 0. 1. 0. 1. 0.]\n",
            " [0. 0. 0. 0. 0. 0. 0. 0. 0. 1. 1.]\n",
            " [0. 0. 0. 0. 0. 0. 0. 0. 0. 0. 1.]]\n"
          ]
        }
      ],
      "source": [
        "# Incidence Matrix\n",
        "\n",
        "inc_mat = nx.incidence_matrix(g)\n",
        "print(inc_mat.todense())"
      ]
    },
    {
      "cell_type": "markdown",
      "metadata": {
        "id": "aGMH8vca4t8u"
      },
      "source": [
        "## Exercise 1: Graph Representations & Memory\n",
        "\n",
        "Consider an unweighted graph that has n = 156317 vertices and m = 1059331 edges. Assume that in your computer each boolean is 1 byte, each integer is 4 bytes, and each pointer also 4 bytes. Calculate the amount of memory that is necessary to store this graph using an adjacency matrix representation and an adjacency lists representation. Which takes up more memory?\n"
      ]
    },
    {
      "cell_type": "markdown",
      "metadata": {
        "id": "quXI0s4UfNGc"
      },
      "source": [
        "### Directed Graphs\n",
        "\n",
        "To this point, we have simply demonstrated undirected graphs. We now\n",
        "introduce using directed graphs. The first change is the graph creation,\n",
        "where we now use `nx.DiGraph()` to create a simple, directed graph.\n",
        "Otherwise, we add edges in the same manner, albeit the direction is\n",
        "assumed to be from the starting node to the ending node. If we need to\n",
        "have directed edges going both ways, we simply add an edge with the\n",
        "nodes reversed in order. These concepts are demonstrated in the\n",
        "following cells, where we create and operate on directed graphs."
      ]
    },
    {
      "cell_type": "code",
      "execution_count": 25,
      "metadata": {
        "id": "tzzC-GeLfMT7",
        "outputId": "20dfe29f-b292-4392-ae64-dd59c5277b37",
        "colab": {
          "base_uri": "https://localhost:8080/",
          "height": 550
        }
      },
      "outputs": [
        {
          "output_type": "stream",
          "name": "stdout",
          "text": [
            "Nodes: ['1', '2', '3', '4', '5']\n",
            "Edges: [('1', '2'), ('2', '3'), ('3', '4'), ('4', '1'), ('4', '5'), ('5', '4')]\n"
          ]
        },
        {
          "output_type": "display_data",
          "data": {
            "text/plain": [
              "<Figure size 640x480 with 1 Axes>"
            ],
            "image/png": "[encoded data removed]"
          },
          "metadata": {}
        }
      ],
      "source": [
        "# Create a directed graph, add nodes and edges.\n",
        "dg = nx.DiGraph()\n",
        "dg.add_nodes_from(['1', '2', '3', '4', '5'])\n",
        "dg.add_edge('1', '2')\n",
        "dg.add_edge('2', '3')\n",
        "dg.add_edge('3', '4')\n",
        "dg.add_edge('4', '1')\n",
        "dg.add_edge('4', '5')\n",
        "dg.add_edge('5', '4')\n",
        "\n",
        "# Display nodes, edges, and the graph.\n",
        "print('Nodes:', dg.nodes())\n",
        "print('Edges:', dg.edges())\n",
        "\n",
        "nx.draw_spectral(dg, with_labels=True)\n",
        "plt.show()"
      ]
    },
    {
      "cell_type": "code",
      "execution_count": 26,
      "metadata": {
        "id": "gbbGG0NWfT9z",
        "outputId": "8798fa46-4b13-4cc4-8c09-b1a710cb74b5",
        "colab": {
          "base_uri": "https://localhost:8080/",
          "height": 652
        }
      },
      "outputs": [
        {
          "output_type": "stream",
          "name": "stdout",
          "text": [
            "Nodes: [1, 2, 3, 4, 5]\n",
            "Edges: [(1, 2), (2, 3), (3, 4), (3, 1), (3, 5)]\n",
            "\n",
            "Number of edges entering a node:\n",
            "[(1, 1), (2, 1), (3, 1), (4, 1), (5, 1)]\n",
            "\n",
            "Number of edges leaving a node:\n",
            "[(1, 1), (2, 1), (3, 3), (4, 0), (5, 0)]\n"
          ]
        },
        {
          "output_type": "display_data",
          "data": {
            "text/plain": [
              "<Figure size 640x480 with 1 Axes>"
            ],
            "image/png": "[encoded data removed]"
          },
          "metadata": {}
        }
      ],
      "source": [
        "# Create directed graph, and add edges\n",
        "# (which adds the corresponding nodes automatically).\n",
        "\n",
        "dg = nx.DiGraph()\n",
        "dg.add_edge(1, 2)\n",
        "dg.add_edge(2, 3)\n",
        "dg.add_edge(3, 4)\n",
        "dg.add_edge(3, 1)\n",
        "dg.add_edge(3, 5)\n",
        "\n",
        "# Display nodes, edges, and directions.\n",
        "print('Nodes:', dg.nodes())\n",
        "print('Edges:', dg.edges())\n",
        "\n",
        "print('\\nNumber of edges entering a node:')\n",
        "print(dg.in_degree())\n",
        "\n",
        "print('\\nNumber of edges leaving a node:')\n",
        "print(dg.out_degree())\n",
        "\n",
        "# Draw graph.\n",
        "nx.draw(dg, with_labels=True)\n",
        "plt.show()"
      ]
    },
    {
      "cell_type": "code",
      "execution_count": 27,
      "metadata": {
        "id": "dO9-hXAXfYQz",
        "outputId": "483a8d38-0431-4477-b5ed-728f31a3b0fc",
        "colab": {
          "base_uri": "https://localhost:8080/",
          "height": 720
        }
      },
      "outputs": [
        {
          "output_type": "stream",
          "name": "stdout",
          "text": [
            "\n",
            "Number of edges entering a node:\n",
            "[(0, 0), (1, 1), (2, 1), (3, 1), (4, 1), (5, 1), (6, 1), (7, 1), (8, 1)]\n",
            "\n",
            "Number of edges leaving a node:\n",
            "[(0, 1), (1, 1), (2, 1), (3, 1), (4, 1), (5, 1), (6, 1), (7, 1), (8, 0)]\n",
            "\n",
            "Weighted Number of edges entering a node:\n",
            "[(0, 0), (1, 10), (2, 20), (3, 30), (4, 40), (5, 50), (6, 60), (7, 70), (8, 80)]\n",
            "\n",
            "Weighted Number of edges leaving a node:\n",
            "[(0, 10), (1, 20), (2, 30), (3, 40), (4, 50), (5, 60), (6, 70), (7, 80), (8, 0)]\n"
          ]
        },
        {
          "output_type": "display_data",
          "data": {
            "text/plain": [
              "<Figure size 640x480 with 1 Axes>"
            ],
            "image/png": "[encoded data removed]"
          },
          "metadata": {}
        }
      ],
      "source": [
        "# Create directed graph, and display directed edges,\n",
        "# and the weights of directed edges.\n",
        "\n",
        "dg = nx.DiGraph()\n",
        "dg.add_nodes_from(range(8))\n",
        "\n",
        "dg.add_weighted_edges_from([(idx, idx + 1, (idx + 1) * 10)\n",
        "                           for idx in range(dg.order())])\n",
        "\n",
        "print('\\nNumber of edges entering a node:')\n",
        "print(dg.in_degree())\n",
        "\n",
        "print('\\nNumber of edges leaving a node:')\n",
        "print(dg.out_degree())\n",
        "\n",
        "print('\\nWeighted Number of edges entering a node:')\n",
        "print(dg.in_degree(weight='weight'))\n",
        "\n",
        "print('\\nWeighted Number of edges leaving a node:')\n",
        "print(dg.out_degree(weight='weight'))\n",
        "\n",
        "nx.draw_circular(dg, with_labels=True)\n",
        "plt.show()"
      ]
    },
    {
      "cell_type": "markdown",
      "metadata": {
        "id": "g1RgX_Mrfc-4"
      },
      "source": [
        "### Multigraphs\n",
        "\n",
        "All graphs we have created and used within this notebook have been\n",
        "simple, which simply means two nodes can be connected by at most one\n",
        "edge. In some cases, however it makes sense to have multiple edges\n",
        "connecting two nodes. The networkx library provides two graph types,\n",
        "`MultiGraph` and `MultiDiGraph` for complex undirected or directed\n",
        "graphs, respectively. Below we demonstrate using a multi-graph, however,\n",
        "note that the multiple edges are not drawn by networkx. To visualize\n",
        "large or more complex graphs, other tools, such as [Graphviz][gv], are\n",
        "recommended.\n",
        "\n",
        "[gv]: http://www.graphviz.org"
      ]
    },
    {
      "cell_type": "code",
      "execution_count": 28,
      "metadata": {
        "id": "9I_FLOyKfcZ0",
        "outputId": "5975a141-f01c-449c-f862-941957786d5a",
        "colab": {
          "base_uri": "https://localhost:8080/",
          "height": 533
        }
      },
      "outputs": [
        {
          "output_type": "stream",
          "name": "stdout",
          "text": [
            "[(0, 1), (1, 2), (1, 3), (1, 3), (2, 3), (3, 4), (3, 5), (3, 5), (4, 5), (5, 6), (5, 7), (5, 7), (6, 7), (7, 8)]\n"
          ]
        },
        {
          "output_type": "display_data",
          "data": {
            "text/plain": [
              "<Figure size 640x480 with 1 Axes>"
            ],
            "image/png": "[encoded data removed]"
          },
          "metadata": {}
        }
      ],
      "source": [
        "# Create directed multigraph and add nodes\n",
        "mdg = nx.MultiDiGraph()\n",
        "mdg.add_nodes_from(range(8))\n",
        "\n",
        "# Now add edges, including repeat edges.\n",
        "mdg.add_weighted_edges_from([(idx, idx + 1, (idx + 1) * 10)\n",
        "                            for idx in range(mdg.order())])\n",
        "\n",
        "mdg.add_weighted_edges_from([(1, 3, 0.5), (3, 5, 0.25), (5, 7, 0.125)])\n",
        "mdg.add_weighted_edges_from([(1, 3, 1.5), (3, 5, 2.25), (5, 7, 3.125)])\n",
        "\n",
        "# Display graph edges and the graph.\n",
        "print(mdg.edges())\n",
        "nx.draw_circular(mdg, with_labels=True)\n",
        "plt.show()"
      ]
    },
    {
      "cell_type": "markdown",
      "metadata": {
        "id": "gxv7uCPjoM2Q"
      },
      "source": [
        "## Exercise 2: Directed Graph Construction\n",
        "\n",
        "- Make a directed graph with 20 integer nodes, and edges connecting every even integer node to the next odd integer node. Start from zero (Zero is an even number).\n",
        "  - Node 0 has an edge pointing to node 1\n",
        "  - Node 2 has an edge pointing to node 3\n",
        "  - ...\n",
        "  - Node 18 has an edge pointing to node 19"
      ]
    },
    {
      "cell_type": "markdown",
      "metadata": {
        "id": "YC9csYyc5UYV"
      },
      "source": [
        "![UN01](https://github.com/nrflynn2/swe-molecular-sciences/blob/main/figures/L02_digraph_ex1.png?raw=1)"
      ]
    },
    {
      "cell_type": "code",
      "execution_count": 30,
      "metadata": {
        "id": "klQ_vJnKoMTX"
      },
      "outputs": [],
      "source": [
        "def get_circular_dg():\n",
        "    '''\n",
        "    Creates a directed graph with 20 integer nodes.\n",
        "    Every even interger node is connected to the next odd integer node.\n",
        "\n",
        "    Paramters\n",
        "    ---------\n",
        "    None\n",
        "\n",
        "    Returns\n",
        "    -------\n",
        "    A networkx.Digraph instance.\n",
        "    '''\n",
        "\n",
        "    dg = nx.DiGraph()\n",
        "    dg.add_nodes_from(range(20))\n",
        "    for idx in range(0, 20, 2):\n",
        "        dg.add_edge(idx, idx + 1)\n",
        "        if idx + 2 < 20:\n",
        "            dg.add_edge(idx, idx + 2)\n",
        "\n",
        "\n",
        "    return dg"
      ]
    },
    {
      "cell_type": "code",
      "execution_count": 31,
      "metadata": {
        "id": "vQoSUqGJoz2Z"
      },
      "outputs": [],
      "source": [
        "dg = get_circular_dg()"
      ]
    },
    {
      "cell_type": "code",
      "execution_count": 32,
      "metadata": {
        "id": "EQcNFnp8pP1S",
        "outputId": "6351ca5b-4fe3-4eb5-fc56-86c8e327c3c6",
        "colab": {
          "base_uri": "https://localhost:8080/",
          "height": 533
        }
      },
      "outputs": [
        {
          "output_type": "stream",
          "name": "stdout",
          "text": [
            "[(0, 1), (0, 2), (2, 3), (2, 4), (4, 5), (4, 6), (6, 7), (6, 8), (8, 9), (8, 10), (10, 11), (10, 12), (12, 13), (12, 14), (14, 15), (14, 16), (16, 17), (16, 18), (18, 19)]\n"
          ]
        },
        {
          "output_type": "display_data",
          "data": {
            "text/plain": [
              "<Figure size 640x480 with 1 Axes>"
            ],
            "image/png": "[encoded data removed]"
          },
          "metadata": {}
        }
      ],
      "source": [
        "# Display graph edges and the graph to visually validate correct behavior.\n",
        "print(dg.edges())\n",
        "nx.draw_circular(dg, with_labels=True)\n",
        "plt.show()"
      ]
    },
    {
      "cell_type": "markdown",
      "metadata": {
        "id": "ho7JUyP9dNxB"
      },
      "source": [
        "## Graph Analysis\n",
        "\n",
        "Graphs can be large and\n",
        "complex since they will are not simply data but also the relationships\n",
        "between the data. As a result, the subject of graph or [network\n",
        "analysis][wna] is quite complex and we will only skim the surface. In\n",
        "this notebook we demonstrate basic graph traversal, computing properties\n",
        "of nodes and edges, quickly building graphs by using generators, and\n",
        "combining graphs. Finally, we will perform basic graph analysis before\n",
        "exploring a sample graph that is included with the networkx library.\n",
        "\n",
        "[wna]: https://en.wikipedia.org/wiki/Network_science"
      ]
    },
    {
      "cell_type": "markdown",
      "metadata": {
        "id": "80OFZijmgalE"
      },
      "source": [
        "To demonstrate analyzing a graph, we first construct a simple path graph\n",
        "of ten nodes, with the nodes connected sequentially. Afterwards, we\n",
        "display the number of edges per node, the degree of each node, and the\n",
        "weight of each edge.\n"
      ]
    },
    {
      "cell_type": "code",
      "execution_count": 33,
      "metadata": {
        "id": "mWE8F9n3dQ-I",
        "outputId": "c816b60f-d8c7-4a61-f185-a088f6f7c3ac",
        "colab": {
          "base_uri": "https://localhost:8080/",
          "height": 516
        }
      },
      "outputs": [
        {
          "output_type": "display_data",
          "data": {
            "text/plain": [
              "<Figure size 640x480 with 1 Axes>"
            ],
            "image/png": "[encoded data removed]"
          },
          "metadata": {}
        }
      ],
      "source": [
        "# Make a directed graph to traverse\n",
        "\n",
        "dg = nx.DiGraph()\n",
        "dg.add_nodes_from(range(10))\n",
        "\n",
        "dg.add_weighted_edges_from([(idx, idx + 1, (idx + 1) * 10)\n",
        "                           for idx in range(dg.order())])\n",
        "\n",
        "nx.draw(dg)\n",
        "plt.show()"
      ]
    },
    {
      "cell_type": "code",
      "execution_count": 34,
      "metadata": {
        "id": "MFQOLeViggVs",
        "outputId": "61e9e161-c552-4fcb-f254-86a91205aa9c",
        "colab": {
          "base_uri": "https://localhost:8080/"
        }
      },
      "outputs": [
        {
          "output_type": "stream",
          "name": "stdout",
          "text": [
            "Node 0 has 1 edge(s)\n",
            "Node 1 has 2 edge(s)\n",
            "Node 2 has 2 edge(s)\n",
            "Node 3 has 2 edge(s)\n",
            "Node 4 has 2 edge(s)\n",
            "Node 5 has 2 edge(s)\n",
            "Node 6 has 2 edge(s)\n",
            "Node 7 has 2 edge(s)\n",
            "Node 8 has 2 edge(s)\n",
            "Node 9 has 2 edge(s)\n",
            "Node 10 has 1 edge(s)\n"
          ]
        }
      ],
      "source": [
        "# Display number of edges for each node\n",
        "\n",
        "fmt_str = 'Node {0} has {1} edge(s)'\n",
        "for node in dg.nodes():\n",
        "    print(fmt_str.format(node, dg.degree(node)))"
      ]
    },
    {
      "cell_type": "code",
      "execution_count": 35,
      "metadata": {
        "id": "hHdCAWe0gjO2",
        "outputId": "5d83435e-4e67-49cf-e6e0-bbb3e6fe1ea4",
        "colab": {
          "base_uri": "https://localhost:8080/"
        }
      },
      "outputs": [
        {
          "output_type": "stream",
          "name": "stdout",
          "text": [
            "Node 0 has degree 1\n",
            "Node 1 has degree 2\n",
            "Node 2 has degree 2\n",
            "Node 3 has degree 2\n",
            "Node 4 has degree 2\n",
            "Node 5 has degree 2\n",
            "Node 6 has degree 2\n",
            "Node 7 has degree 2\n",
            "Node 8 has degree 2\n",
            "Node 9 has degree 2\n",
            "Node 10 has degree 1\n"
          ]
        }
      ],
      "source": [
        "# Display node degrees (connections)\n",
        "\n",
        "fmt_str = 'Node {0} has degree {1}'\n",
        "for node in dg.nodes():\n",
        "    print(fmt_str.format(node, dg.degree(node)))"
      ]
    },
    {
      "cell_type": "code",
      "execution_count": 36,
      "metadata": {
        "id": "idWF9X8bgq9s",
        "outputId": "aff750e6-7e3a-494b-b6b0-ebd8eb128747",
        "colab": {
          "base_uri": "https://localhost:8080/"
        }
      },
      "outputs": [
        {
          "output_type": "stream",
          "name": "stdout",
          "text": [
            "Node 0 connected to Node 1 with Weight 10\n",
            "Node 1 connected to Node 2 with Weight 20\n",
            "Node 2 connected to Node 3 with Weight 30\n",
            "Node 3 connected to Node 4 with Weight 40\n",
            "Node 4 connected to Node 5 with Weight 50\n",
            "Node 5 connected to Node 6 with Weight 60\n",
            "Node 6 connected to Node 7 with Weight 70\n",
            "Node 7 connected to Node 8 with Weight 80\n",
            "Node 8 connected to Node 9 with Weight 90\n",
            "Node 9 connected to Node 10 with Weight 100\n"
          ]
        }
      ],
      "source": [
        "# Display node connections with weights\n",
        "\n",
        "fmt_str = 'Node {0} connected to Node {1} with Weight {2}'\n",
        "for n, m, attr in dg.edges(data=True):\n",
        "    print(fmt_str.format(n, m, attr['weight']))"
      ]
    },
    {
      "cell_type": "markdown",
      "metadata": {
        "id": "4cD2fRy8gs9X"
      },
      "source": [
        "### Graph Operations\n",
        "\n",
        "Given one or more graphs, there are [different operations][nop] that can\n",
        "be performed as supported by the networkx library. For example,\n",
        "multiple graphs can be easily joined when there are no nodes in common\n",
        "(`union`). If there are overlaps, they can be ignored  (`compose`) or\n",
        "new nodes made to account for each duplicate (`disjoint_union`). The\n",
        "complement (an inverse) of a graph can be constructed (`complement`),\n",
        "subgraphs can be constructed by specifying nodes to extract from a\n",
        "graph, and cartesian products of two graphs (`cartesian_product`).\n",
        "\n",
        "[nop]: https://networkx.github.io/documentation/latest/reference/algorithms.operators.html"
      ]
    },
    {
      "cell_type": "code",
      "execution_count": 37,
      "metadata": {
        "id": "vEE_dRC_g29z",
        "outputId": "0f41a831-9c24-4ede-fbf9-c2018eb949ba",
        "colab": {
          "base_uri": "https://localhost:8080/"
        }
      },
      "outputs": [
        {
          "output_type": "stream",
          "name": "stdout",
          "text": [
            "Nodes in Graph 1: [0, 1, 2, 3, 4, 5]\n",
            "Nodes in Graph 2: [6, 7, 8, 9, 10, 11]\n",
            "Nodes in Graph 3: [3, 4, 5, 6, 7, 8, 9, 10]\n",
            "\n",
            "Nodes in Union of Graphs 1 and 2: [0, 1, 2, 3, 4, 5, 6, 7, 8, 9, 10, 11]\n",
            "\n",
            "Nodes in Composition of Graphs 1 and 3: [0, 1, 2, 3, 4, 5, 6, 7, 8, 9, 10]\n",
            "\n",
            "Subgraph (g3 nodes) from Union of Graphs 1 and 2: [3, 4, 5, 6, 7, 8, 9, 10]\n",
            "\n",
            "Nodes in Disjoint Union of Graphs 1 and 3: [0, 1, 2, 3, 4, 5, 6, 7, 8, 9, 10, 11, 12, 13]\n",
            "\n",
            "Caretsian Product of Graphs 1 and 2\n",
            "[ (0, 6), (0, 7), (0, 8), (0, 9), (0, 10), (0, 11),\n",
            "  (1, 6), (1, 7), (1, 8), (1, 9), (1, 10), (1, 11),\n",
            "  (2, 6), (2, 7), (2, 8), (2, 9), (2, 10), (2, 11),\n",
            "  (3, 6), (3, 7), (3, 8), (3, 9), (3, 10), (3, 11),\n",
            "  (4, 6), (4, 7), (4, 8), (4, 9), (4, 10), (4, 11),\n",
            "  (5, 6), (5, 7), (5, 8), (5, 9), (5, 10), (5, 11)]\n"
          ]
        }
      ],
      "source": [
        "g1 = nx.Graph()\n",
        "g1.add_nodes_from(range(6))\n",
        "\n",
        "g2 = nx.Graph()\n",
        "g2.add_nodes_from(range(6, 12))\n",
        "\n",
        "g3 = nx.Graph()\n",
        "g3.add_nodes_from(range(3, 11))\n",
        "\n",
        "print('Nodes in Graph 1:', g1.nodes())\n",
        "print('Nodes in Graph 2:', g2.nodes())\n",
        "print('Nodes in Graph 3:', g3.nodes())\n",
        "\n",
        "# Combine graphs with no overlaps\n",
        "gu = nx.union(g1, g2)\n",
        "print('\\nNodes in Union of Graphs 1 and 2:', gu.nodes())\n",
        "\n",
        "# Combine graphs with possible overlaps\n",
        "gcm = nx.compose(g1, g3)\n",
        "print('\\nNodes in Composition of Graphs 1 and 3:', gcm.nodes())\n",
        "\n",
        "# Make a subgraph, of specific nodes\n",
        "gsg = nx.subgraph(gu, g3)\n",
        "print('\\nSubgraph (g3 nodes) from Union of Graphs 1 and 2:', gsg.nodes())\n",
        "\n",
        "# Disjoint union treats each node as distinct.\n",
        "gdu = nx.disjoint_union(g1, g3)\n",
        "print('\\nNodes in Disjoint Union of Graphs 1 and 3:', gdu.nodes())\n",
        "\n",
        "print('\\nCaretsian Product of Graphs 1 and 2')\n",
        "gcp = nx.cartesian_product(g1, g2)\n",
        "\n",
        "pp = pprint.PrettyPrinter(indent=2, depth=2, width=54, compact=True)\n",
        "\n",
        "pp.pprint(list(gcp.nodes()))"
      ]
    },
    {
      "cell_type": "code",
      "execution_count": null,
      "metadata": {
        "id": "9nSIgGfihzRU"
      },
      "outputs": [],
      "source": [
        "# Make a siomple path graph\n",
        "h = nx.path_graph(6)\n",
        "print('Edges in Graph h:', h.edges())\n",
        "\n",
        "plt.figure(figsize=(3, 3))\n",
        "nx.draw_circular(h, with_labels=True)\n",
        "plt.show()"
      ]
    },
    {
      "cell_type": "code",
      "execution_count": null,
      "metadata": {
        "id": "jRHbnoLvh2kk"
      },
      "outputs": [],
      "source": [
        "# Compute and display the graph complement\n",
        "hc = nx.complement(h)\n",
        "print('Edges in Complement of Graph h:', hc.edges())\n",
        "\n",
        "plt.figure(figsize=(3, 3))\n",
        "nx.draw_circular(hc, with_labels=True)\n",
        "plt.show()"
      ]
    },
    {
      "cell_type": "markdown",
      "metadata": {
        "id": "2DrdqOo1h9E0"
      },
      "source": [
        "### Graph Generators\n",
        "\n",
        "In some cases, we simply need to create a graph for specific analyses or\n",
        "simple demonstrations. The networkx library provides _generators_ for a\n",
        "number of different types of graphs. These generators can be classified\n",
        "as _simple_, _classic_, or _stochastic_. The classic graphs are\n",
        "frequently used as they include the _complete_ and _complete bipartite_\n",
        "graphs, as well as the _barbell_ and _lollipop_ graphs. In the following\n",
        "code cells, we use several of these different generators to quickly make\n",
        "and display different types of graphs."
      ]
    },
    {
      "cell_type": "code",
      "execution_count": null,
      "metadata": {
        "id": "m51UxH32iAVe"
      },
      "outputs": [],
      "source": [
        "# Make a simple graph and display\n",
        "\n",
        "pg = nx.petersen_graph()\n",
        "print('Peterson Graph Edges:\\n')\n",
        "pp.pprint(pg.edges())\n",
        "\n",
        "plt.figure(figsize=(4, 4))\n",
        "nx.draw(pg, with_labels=True)\n",
        "plt.show()"
      ]
    },
    {
      "cell_type": "code",
      "execution_count": null,
      "metadata": {
        "id": "ZtYqvCgqiEcF"
      },
      "outputs": [],
      "source": [
        "# Make a complete graph and display\n",
        "\n",
        "cg = nx.complete_graph(6)\n",
        "print('CG Edges:', cg.edges())\n",
        "\n",
        "plt.figure(figsize=(4, 4))\n",
        "nx.draw(cg, with_labels=True)\n",
        "plt.show()"
      ]
    },
    {
      "cell_type": "code",
      "execution_count": null,
      "metadata": {
        "id": "2gLVZTQBiHKs"
      },
      "outputs": [],
      "source": [
        "# Make a complete bipartite graph and display\n",
        "\n",
        "cbg = nx.complete_bipartite_graph(3, 2)\n",
        "print('CBG Edges:', cbg.edges())\n",
        "\n",
        "plt.figure(figsize=(4, 4))\n",
        "nx.draw(cbg, with_labels=True)\n",
        "plt.show()"
      ]
    },
    {
      "cell_type": "code",
      "execution_count": null,
      "metadata": {
        "id": "HODPi8dDiJaU"
      },
      "outputs": [],
      "source": [
        "# Make a barbell graph and display\n",
        "\n",
        "barbell = nx.barbell_graph(8, 2)\n",
        "nx.draw(barbell)\n",
        "plt.show()"
      ]
    },
    {
      "cell_type": "code",
      "execution_count": null,
      "metadata": {
        "id": "Gc3aCyAPiMW5"
      },
      "outputs": [],
      "source": [
        "# Make a lollipop graph and display (changing the node and edge colors)\n",
        "\n",
        "lg = nx.lollipop_graph(8, 3)\n",
        "\n",
        "nx.draw(lg, with_labels=True, node_color='g', node_size=750, edge_color='b')\n",
        "plt.show()"
      ]
    },
    {
      "cell_type": "code",
      "execution_count": null,
      "metadata": {
        "id": "kZr06RBZiOhc"
      },
      "outputs": [],
      "source": [
        "# Make a Barabási–Albert graph and display\n",
        "\n",
        "ba = nx.barabasi_albert_graph(36, 12)\n",
        "nx.draw(ba)\n",
        "plt.show()"
      ]
    },
    {
      "cell_type": "markdown",
      "metadata": {
        "id": "xP3xK-zPidO_"
      },
      "source": [
        "### Graph IO\n",
        "\n",
        "When working with graphs, it is often important to save the data to\n",
        "share or use later in another application. For example, when  working\n",
        "with twitter data (social network analysis) or chembl data (chemical / biological network analysis), we often will want to cache the data to avoid rate limits. The networkx library [supports reading and\n",
        "writing][nrw] graph data (or a subset of the graph data such as the\n",
        "nodes or edges) to a number of different formats, including\n",
        "\n",
        "- GML, or graph markup language\n",
        "- GEXF, or Graph Exchange XML Format\n",
        "- GraphML\n",
        "- JSON\n",
        "- GIS Shapefile\n",
        "\n",
        "and of course, you can also pickle graphs. Below we demonstrate this\n",
        "capability, by first creating a simple graph and writing it to a\n",
        "temporary file. We demonstrate this file exists by using the Unix list\n",
        "files command (`ls -la`), before reading the graph into a new variable\n",
        "and displaying the recovered graph.\n",
        "\n",
        "[nrw]: https://networkx.github.io/documentation/latest/reference/readwrite.html"
      ]
    },
    {
      "cell_type": "code",
      "execution_count": null,
      "metadata": {
        "id": "2ABLxB36iwpl"
      },
      "outputs": [],
      "source": [
        "tcg = nx.complete_graph(12)\n",
        "nx.write_gml(tcg, 'tmp-cg.dat')"
      ]
    },
    {
      "cell_type": "code",
      "execution_count": null,
      "metadata": {
        "id": "Xa3I0L2DiyQ-"
      },
      "outputs": [],
      "source": [
        "!ls -la tmp-cg.dat"
      ]
    },
    {
      "cell_type": "code",
      "execution_count": null,
      "metadata": {
        "id": "1rv8RXfHi1XG"
      },
      "outputs": [],
      "source": [
        "ncg = nx.read_gml('tmp-cg.dat')\n",
        "\n",
        "print('CG Edges:', tcg.edges())\n",
        "\n",
        "clrs = sns.color_palette(\"Paired\")\n",
        "\n",
        "plt.figure(figsize=(5, 5))\n",
        "nx.draw(tcg, with_labels=True, node_color=clrs[0])\n",
        "plt.show()"
      ]
    },
    {
      "cell_type": "markdown",
      "metadata": {
        "id": "TRxKB3z5i4VG"
      },
      "source": [
        "### Graph Analysis\n",
        "\n",
        "So far, we have only created graphs. The power of network analysis,\n",
        "however, is in analyzing the properties of graphs to gain insight into\n",
        "the underlying data. This can include finding clusters of nodes,\n",
        "computing path distances between nodes, and finding properties of the\n",
        "entire graph or of collections of nodes. The networkx library provides a\n",
        "wide range of basic graph analysis methodology, which is demonstrated in\n",
        "the rest of this notebook. First, we analyze the lollipop graph to\n",
        "identify clusters. In this case, there is one cluster and points are\n",
        "inside it (value of 1), outside (value of 0), or on the border\n",
        "(fractional value). Next, we create a special graph and identify the\n",
        "connected components."
      ]
    },
    {
      "cell_type": "code",
      "execution_count": null,
      "metadata": {
        "id": "jibMBq2OjMRl"
      },
      "outputs": [],
      "source": [
        "# Apply clustering to lollipop graph\n",
        "print(nx.clustering(lg))\n",
        "\n",
        "nx.draw(lg, with_labels=True, node_color=clrs[2], node_size=750)\n",
        "plt.show()"
      ]
    },
    {
      "cell_type": "code",
      "execution_count": null,
      "metadata": {
        "id": "ehKKwBlpjSBn"
      },
      "outputs": [],
      "source": [
        "g = nx.Graph()\n",
        "g.add_nodes_from(range(8))\n",
        "g.add_edges_from([(1, 2), (2, 3), (4, 5), (5, 6), (7, 8)])\n",
        "\n",
        "plt.figure(figsize=(5, 5))\n",
        "nx.draw(g, with_labels=True, node_color=clrs[2], node_size=750)\n",
        "plt.show()\n",
        "\n",
        "for idx, nds in enumerate(nx.connected_components(g)):\n",
        "    print('Connected Group {0} has {1} nodes: {2}'.format(idx, len(nds), nds))"
      ]
    },
    {
      "cell_type": "markdown",
      "metadata": {
        "id": "IHcNexlFjWyX"
      },
      "source": [
        "The networkx library has a number of build-in graph analysis methods,\n",
        "which can be used to find properties of the graph, such as the `center`\n",
        "or `radius`, but also to compute paths between nodes. For example, one\n",
        "commonly required task is to compute the shortest path between nodes,\n",
        "which can include weights from the edges (which might be miles between\n",
        "cities). In the following cll, we modify the previous graph to make a\n",
        "special graph that has nodes with varying path lengths. In the following\n",
        "cells, we compute and display several graph properties before computing\n",
        "the shortest paths between each pair of nodes. Finally, we compute the\n",
        "number of paths of a given length that connect all pairs of nodes.\n"
      ]
    },
    {
      "cell_type": "code",
      "execution_count": null,
      "metadata": {
        "id": "sLZnTz-3jYqb"
      },
      "outputs": [],
      "source": [
        "# Compute Shortest Paths\n",
        "\n",
        "g.add_edges_from([(0, 3), (2, 7), (1, 5)])\n",
        "\n",
        "plt.figure(figsize=(5, 5))\n",
        "nx.draw(g, with_labels=True, node_color=clrs[2], node_size=750)\n",
        "plt.show()"
      ]
    },
    {
      "cell_type": "code",
      "execution_count": null,
      "metadata": {
        "id": "T1vki4BpjdS4"
      },
      "outputs": [],
      "source": [
        "print(\"Graph Radius: {0:3.1f}\".format(nx.radius(g)))\n",
        "print(\"Graph Diameter: {0:3.1f}\".format(nx.diameter(g)))\n",
        "print(\"Graph Eccentricity: {0}\".format(nx.eccentricity(g)))\n",
        "print(\"Graph Center: {0}\".format(nx.center(g)))\n",
        "print(\"Graph Periphery: {0}\".format(nx.periphery(g)))\n",
        "print(\"Graph Density: {0:4.3f}\".format(nx.density(g)))"
      ]
    },
    {
      "cell_type": "code",
      "execution_count": null,
      "metadata": {
        "id": "vf8XyTiJjf9m"
      },
      "outputs": [],
      "source": [
        "path_lengths=[]\n",
        "\n",
        "print(\"Starting Node {End Node : Length, ... }\")\n",
        "for node in g.nodes():\n",
        "    spl= nx.single_source_shortest_path_length(g, node)\n",
        "    print('{0} {1}'.format(node, spl))\n",
        "    for path in spl.values():\n",
        "        path_lengths.append(path)\n",
        "\n",
        "print(\"\\nAverage shortest Path Length = {0:4.3f}\".format(sum(path_lengths)/len(path_lengths)))"
      ]
    },
    {
      "cell_type": "code",
      "execution_count": null,
      "metadata": {
        "id": "URvk120ejjSG"
      },
      "outputs": [],
      "source": [
        "# Accumulate number of paths in graph of given length\n",
        "\n",
        "lengths = {}\n",
        "for path in path_lengths:\n",
        "    if path in lengths:\n",
        "        lengths[path] += 1\n",
        "    else:\n",
        "        lengths[path] = 1\n",
        "\n",
        "print(\"Length : Number of Paths\")\n",
        "for length in sorted(lengths.keys()):\n",
        "    print('  {0}    :    {1:2d}'.format(length, lengths[length]))"
      ]
    },
    {
      "cell_type": "markdown",
      "metadata": {
        "id": "OwFmOPAxjl5i"
      },
      "source": [
        "\n",
        "Another important concept in graphs is natural groupings, which are\n",
        "known as _cliques_. The networkx library provides methods to find\n",
        "cliques, which may or may not be useful for a particular analysis (in\n",
        "other words, you may need have to provide specific functionality  if\n",
        "the networkx methods are not sufficient). Below we compute the number of\n",
        "_maximal_ cliques and then display the different cliques."
      ]
    },
    {
      "cell_type": "code",
      "execution_count": null,
      "metadata": {
        "id": "Ppq5yJWEjnwy"
      },
      "outputs": [],
      "source": [
        "print('Total number of maximal cliques = {0}'.format(nx.number_of_cliques(g)))\n",
        "\n",
        "for clique in nx.find_cliques(g):\n",
        "    print(clique)"
      ]
    },
    {
      "cell_type": "markdown",
      "metadata": {
        "id": "qIqbwmnqnRSu"
      },
      "source": [
        "### Demo Graph\n",
        "\n",
        "The networkx library comes with several data sets, which can be used to\n",
        "demonstrate basic graph analysis. Below we use one of these data sets,\n",
        "the _Davis Women's club_ data. This data has relationships between the\n",
        "different women, and also who attended which club event. Below we first\n",
        "display a histogram of the number of connections between the women\n",
        "before computing the number of friends for each woman (we use a\n",
        "bipartite graph to simplify this calculation). Finally, we conclude this\n",
        "demo by displaying the graph and computing the number of shard\n",
        "connections, via the number of meetings each woman attended and the\n",
        "number of other women at those meetings.\n"
      ]
    },
    {
      "cell_type": "code",
      "execution_count": null,
      "metadata": {
        "id": "Nb0i7_COnUQZ"
      },
      "outputs": [],
      "source": [
        "sample_graph = nx.davis_southern_women_graph()\n",
        "\n",
        "edges = [v for k, v in nx.degree(sample_graph)]\n",
        "\n",
        "plt.figure(figsize=(6, 6))\n",
        "sns.set(style='white')\n",
        "sns.distplot(edges, kde=False)\n",
        "sns.despine(offset=5)"
      ]
    },
    {
      "cell_type": "code",
      "execution_count": null,
      "metadata": {
        "id": "vCRkc6gCn5K4"
      },
      "outputs": [],
      "source": [
        "import networkx.algorithms.bipartite as bipartite\n",
        "\n",
        "women = sample_graph.graph['top']\n",
        "\n",
        "# We make a bipartite graph linking each individual woman to the other women\n",
        "bpg = bipartite.projected_graph(sample_graph, women)\n",
        "print('{0:25s} : # Friends'.format('Member'))\n",
        "print(40*'-')\n",
        "\n",
        "for woman in women:\n",
        "    print('{0:25s} : {1:2d}'.format(woman, bpg.degree(woman)))"
      ]
    },
    {
      "cell_type": "code",
      "execution_count": null,
      "metadata": {
        "id": "izuyeHOfn7zx"
      },
      "outputs": [],
      "source": [
        "# Plot the connections between the women.\n",
        "\n",
        "plt.figure(figsize=(8, 8))\n",
        "\n",
        "pos = nx.spring_layout(bpg)\n",
        "nx.draw(bpg, node_size=500, node_color=clrs[1], node_shape='H')\n",
        "plt.show()"
      ]
    },
    {
      "cell_type": "code",
      "execution_count": null,
      "metadata": {
        "id": "zhwuQCiAoEUM"
      },
      "outputs": [],
      "source": [
        "# Make bipartite graph that weights connections between an individual\n",
        "# woman and the other women by the number of shared contacts\n",
        "\n",
        "bpwg = bipartite.weighted_projected_graph(sample_graph, women)\n",
        "\n",
        "print('{0:25s} : # Friend Meetings'.format('Member'))\n",
        "print(40*'-')\n",
        "\n",
        "for woman in women:\n",
        "    print('{0:25s} : {1:2d}'.format(woman, bpwg.degree(woman, weight='weight')))"
      ]
    },
    {
      "cell_type": "markdown",
      "metadata": {
        "id": "ScEvwoPjpjfm"
      },
      "source": [
        "## Zachary's Karate Club\n",
        "\n"
      ]
    },
    {
      "cell_type": "markdown",
      "metadata": {
        "id": "YVPGaHWtWSlK"
      },
      "source": [
        "We use [Zachary's Karete Club](https://networkx.github.io/documentation/latest/reference/generated/networkx.generators.social.karate_club_graph.html) data set. You can read more about it on [Wikipedia](https://en.wikipedia.org/wiki/Zachary%27s_karate_club) or refer to the original paper [Zachary (1997)].\n",
        "\n",
        "According to Wikipedia:\n",
        "\n",
        "<blockquote>\n",
        "A social network of a karate club was studied by Wayne W. Zachary for a period of three years from 1970 to 1972. The network captures 34 members of a karate club, documenting 78 pairwise links between members who interacted outside the club. During the study a conflict arose between the administrator \"John A\" and instructor \"Mr. Hi\" (pseudonyms), which led to the split of the club into two. Half of the members formed a new club around Mr. Hi, members from the other part found a new instructor or gave up karate. Basing on collected data Zachary assigned correctly all but one member of the club to the groups they actually joined after the split.\n",
        "</blockquote>"
      ]
    },
    {
      "cell_type": "code",
      "execution_count": null,
      "metadata": {
        "id": "Og5sXxMcWW1w"
      },
      "outputs": [],
      "source": [
        "g = nx.karate_club_graph()"
      ]
    },
    {
      "cell_type": "code",
      "execution_count": null,
      "metadata": {
        "id": "SjczAthdWa6Q"
      },
      "outputs": [],
      "source": [
        "fig, ax = plt.subplots()\n",
        "nx.draw(g, ax=ax, with_labels = True)\n",
        "plt.show()"
      ]
    },
    {
      "cell_type": "markdown",
      "metadata": {
        "id": "UB2dMNNjWw2p"
      },
      "source": [
        "## Exercise 3: Compute the Degree of each Node\n",
        "\n",
        "Compute the degree of each node in the graph. To do this, implement the get_degree function. A working implementation will pass the assertion statements a few cells down."
      ]
    },
    {
      "cell_type": "code",
      "execution_count": null,
      "metadata": {
        "id": "PK1ZGCjmW0hp"
      },
      "outputs": [],
      "source": [
        "def get_degree(graph):\n",
        "    '''\n",
        "    Computes the degree of each node.\n",
        "\n",
        "    Paramters\n",
        "    ---------\n",
        "    graph: A networkx.Graph instance.\n",
        "\n",
        "    Returns\n",
        "    -------\n",
        "    A dict of foramt {node: degree}\n",
        "    '''\n",
        "\n",
        "    # YOUR CODE HERE\n",
        "    result = {}\n",
        "\n",
        "    #TODO: Iterate over each node in the graph, compute the degree of the node, and store it in the dictionary at the index of the node\n",
        "\n",
        "    return result"
      ]
    },
    {
      "cell_type": "code",
      "execution_count": null,
      "metadata": {
        "id": "1NWH-Xy-XG-8"
      },
      "outputs": [],
      "source": [
        "degree = get_degree(g)\n",
        "print('Node  Degree')\n",
        "for node in degree:\n",
        "    print('{0:4d} {1:7d}'.format(node, degree[node]))"
      ]
    },
    {
      "cell_type": "code",
      "execution_count": null,
      "metadata": {
        "id": "DrBFzWndXJUi"
      },
      "outputs": [],
      "source": [
        "# For full points on exercise 3, your computation should pass the following assertion\n",
        "assert list(degree.keys()) == list(range(34))\n",
        "assert degree[0] == 16\n",
        "assert degree[1] == 9\n",
        "assert degree[32] == 12\n",
        "assert degree[33] == 17"
      ]
    },
    {
      "cell_type": "markdown",
      "metadata": {
        "id": "MzocmXgeXajc"
      },
      "source": [
        "We see that two people (Nodes 0 and 33) have well above the average number of degrees. Node 0 corresponds to Mr. Hi, and node 33 corresponds to John A (or \"officer\"). Node 32 has many friends but not as many as those two. To visualize this, we color each node according to whether it is a friend of node 0 or node 33.\n",
        "\n",
        "If someone is a friend of both 0 and 33, classify the node as a friend of node 33.\n",
        "\n",
        "By coloring the friends of node 0 and node 33, we can see that the club has two subgroups based on social relationships!\n",
        "\n",
        "![UN02](https://github.com/nrflynn2/swe-molecular-sciences/blob/main/figures/L02_karate_ex2.png?raw=1)"
      ]
    },
    {
      "cell_type": "markdown",
      "metadata": {
        "id": "yWUjB8Zfalwx"
      },
      "source": [
        "## Exercise 4: Fun with Graphs\n",
        "\n",
        "In the preceding cells, we introduced several basic graph analysis\n",
        "techniques.\n",
        "\n",
        "Make a new graph with 12 nodes. Add edges between all pairs of even nodes. Add edges between all pairs of odd nodes. Next add edges between nodes that are evenly divisible by three.\n",
        "\n",
        "1. Plot your new graph.\n",
        "2. Compute the clustering on this new graph. Describe the results and if it makes sense.\n",
        "3. Compute graph statistics such as `radius` and `density`. What were the computed values?"
      ]
    },
    {
      "cell_type": "markdown",
      "metadata": {
        "id": "yIgJxfK0dSUM"
      },
      "source": [
        "## War Story: Traversals on Drug Metabolism Networks"
      ]
    },
    {
      "cell_type": "markdown",
      "metadata": {
        "id": "Dz5hQCwZp6dw"
      },
      "source": [
        "### Idiosyncratic Adverse Drug Reactions\n",
        "\n",
        "Adverse drug reactions (ADRs) are a core limiting factor in the development of drugs and their distribution. ADRs account for 4.9--7.7\\% of hospital admissions and are a leading cause of death in the U.S. Moreover, vulnerable populations face high risks -- 39\\% of ADRs in pediatric patients end up being life--threatening or fatal and 11.4--35.5\\% of geriatric hospital admissions are due to drug--related incidences. Incidence of ADRs in the USA are estimated to cost up to 30.1 billion dollars annually due to  increased hospitalization, prolongation of hospital stay, and visits to emergency departments.\n",
        "\n",
        "Approximately 10--15\\% of ADRs are dose-independent and idiosyncratic (IADRS), which makes them notoriously difficult to plan for and unable to be evaded by simple dose adjustments. IADRs occur at very low frequencies of 1 in 10,000 to 1 in 100,000, allowing them to evade detection until the drug has gained increased exposure at large population levels that are not tractable in clinical trials. IADRs commonly affect the skin, blood cells, and especially the liver. At least 17\\% of liver transplant cases and 50\\% of acute liver failure cases can be traced to IADRs. Consequently, IADRs are a major reason for drug clinical trial termination and drug-induced liver injury, which is the leading cause of drug withdrawal from the market. Partly due to a poor ability to screen early on for IADRs, one in five drugs that has been on the market for at least two years ends up being withdrawn or tagged with a black box warning. Metabolic activation of an extraneous drug, or xenobiotic, into a reactive metabolite, is a common precursor of ADRs."
      ]
    },
    {
      "cell_type": "markdown",
      "metadata": {
        "id": "GzxIjxPAqhqJ"
      },
      "source": [
        "### Understanding Reactive Metabolite Formation\n",
        "\n",
        "In silico prediction of reactive metabolites is an important cheminformatics problem.\n",
        "Reactive metabolite formation is an unfortunate consequence of drug-clearing defense mechanisms, i.e., metabolism.\n",
        "Metabolism is generally beneficial, making drugs more hydrophilic and easier to excrete.\n",
        "However, metabolism can transform drugs into pernicious reactive metabolites that may conjugate to DNA or off-target proteins and result in adverse events.\n",
        "In particular, P450 enzymes are highly relevant to bioactivation processes surrounding drugs, as they collectively have more substrates than any other enzymes and several of their reaction products have strong electrophilic properties.\n",
        "Reactive metabolites are significant drivers of drug candidate attrition and market withdrawal -- 65% of drugs associated with IADRs have been shown to produce reactive metabolites, primarily resulting in adverse outcomes in conditions that affect the blood, liver, and skin.\n",
        "Detection of reactive metabolite formation during metabolism of a drug to known structural end points could be leveraged to engineer rational modifications that bypass formation of the reactive metabolite in favor of benign metabolic pathways.\n",
        "\n",
        "![UN03](https://github.com/nrflynn2/swe-molecular-sciences/blob/main/figures/L02_RMs_Adverse_Outcomes.png?raw=1)\n",
        "\n",
        "Computational methods are high-throughput and cheap to perform to screen thousands to millions of compounds for potentially toxic molecules during the early stages of the drug development pipeline.\n",
        "Commonly used computational methods focus on detecting and structurally characterizing reactive metabolite-biomolecule adducts or predicting sites on a drug molecule that are liable to form reactive metabolites.\n",
        "However, such methods are often only concerned with the structure of the initial drug molecule (i.e., the starting state) or of the adduct formed when a biomolecule conjugates to a reactive metabolite (i.e., the ending state).\n",
        "This is problematic because the majority of drug molecules require more than one metabolic transformation to form a reactive metabolite.\n",
        "Thus, these methods are likely to miss intermediate metabolites that may lead to subsequent reactive metabolite formation.\n",
        "To address these shortcomings, we will consider XenoNet, which was a metabolic network predictor that receives an input substrate molecule and optional target metabolite(s) and generates a metabolic network.\n",
        "In the metabolic network, molecules are nodes and directional edges convey metabolic transformations.\n",
        "The metabolic network is generated by enumerating pathways, or sequences of intermediate metabolites, between the substrate and targets and predicting the probability of each metabolic transformation."
      ]
    },
    {
      "cell_type": "markdown",
      "metadata": {
        "id": "dGz0xj3U8Qd_"
      },
      "source": [
        "XenoNet works by iteratively chaining together two types of models: Site of metabolism (SOM) models, which identify atoms, or bonds, that are liable to be metabolized, and metabolite structure inference models, which can infer the structures of potential metabolites formed during metabolism of a given molecule.\n",
        "\n",
        "![UN04](https://github.com/nrflynn2/swe-molecular-sciences/blob/main/figures/L02_SOM_models.png?raw=1)\n",
        "\n",
        "![UN05](https://github.com/nrflynn2/swe-molecular-sciences/blob/main/figures/L02_structure_inference_models.png?raw=1)\n",
        "\n",
        "XenoNet uses a deep learning phase I and phase II metabolism model to predict sites of metabolism. It uses a rule-based structure inference model (reliant on various path-finding graph algorithms) to infer possible metabolite structures that are one metabolic step away, as well as the specific SOMs and the corresponding metabolic transformations that act on those SOMs to produce the inferred metabolite.\n",
        "\n",
        "Metabolic pathways are explored in a depth-first manner, where the structure inference algorithm is applied iteratively to generate a tree of potential pathways that span multiple metabolic pathways, eventually resulting in a final graph structure where inferred pathways are saved if they meet user-defined criteria (as visualized below).\n",
        "\n",
        "![UN06](https://github.com/nrflynn2/swe-molecular-sciences/blob/main/figures/L02_DFS_build_network.png?raw=1)\n",
        "\n",
        "With respect to inferring intermediate, reactive metabolite structures, all pathways that link a user-defined starting molecule and user-defined target molecule(s) are saved. Through the application of the SOM model, the likelihood of each step in a pathway can then be computed.\n",
        "XenoNet's weighted metabolic pathways are stored using a custom graph-based data structure where each molecule is a node, and each metabolic transformation is an edge.\n",
        "This network object supports additional functionality, such as the ability to compute the likelihoods of paths and metabolites in the network, output a subnetwork of most important metabolites by some metric, compute network centrality measures, etc. In addition, the network object readily supports conversion to a NetworkX MultiDiGraph class object for further utility.\n",
        "\n",
        "![UN07](https://github.com/nrflynn2/swe-molecular-sciences/blob/main/figures/xenonet_high_level.png?raw=1)\n",
        "\n",
        "![UN08](https://github.com/nrflynn2/swe-molecular-sciences/blob/main/figures/xenonet_high_level_2.png?raw=1)\n"
      ]
    },
    {
      "cell_type": "markdown",
      "metadata": {
        "id": "7Els8X14rmwt"
      },
      "source": [
        "### Problem from an Algorithmic Perspective\n",
        "\n",
        "Consider the example network output provided by XenoNet.\n",
        "\n",
        "![UN09](https://github.com/nrflynn2/swe-molecular-sciences/blob/main/figures/L02_xenonet_example_1.png?raw=1)\n",
        "\n",
        "Now consider the following network.\n",
        "\n",
        "![UN10](https://github.com/nrflynn2/swe-molecular-sciences/blob/main/figures/L02_xenonet_example.png?raw=1)\n",
        "\n",
        "These networks can get quite large, much larger and complex than what it shown here. From an algorithmic perspective, traversing the whole tree has time complexity $O(n^d)$ -- intractable to search the whole tree.\n",
        "- n = number of metabolites per molecules\n",
        "- d = depth of search\n",
        "\n",
        "In practice, conducting full network construction is not tractable for $d \\geq 3$\n"
      ]
    },
    {
      "cell_type": "markdown",
      "metadata": {
        "id": "uQSQTZq6Akm2"
      },
      "source": [
        "How can algorithms (and other methods) help us? Some ideas:\n",
        "1. Algorithmic variants\n",
        "  - Bidirectional search. For network inputs that have a defined target, search from the start while, in parallel, searching in reverse from the target(s). Requires implement retrosynthetic algorithms to enact the structure inference process in reverse + some tricky adaptations to consolidate overlaps.\n",
        "  - Greedy search. Use the SOM model predictinos and limit future searches to only the top $n$ metabolites at a given depth in the tree. If don't want this to be deterministic, then stochastically sample from possible next metabolites to conduct the search from by using their associated SOM model prediction (normalized) as a proxy for a probability.\n",
        "  - Beam search. A greedy approach selects the most probable metabolites at each search step, but is problematic because it is impossible to know a priori which chosen metabolite will lead to the more promising future. The effect of choosing a metabolite may not be obvious until several search steps later and early choice of the wrong metabolite may cumulatively lead to a poorer overall path probability over time. Performing an exhaustive search, retaining all choices, and forking the network with every possible molecule under consideration at a given step rapidly blows up. Instead, retain only the top $N$ scoring forks at each search step. We choose the top $N$ based on the product of probabilities of all metabolites along the path constructed so far.\n",
        "\n",
        "![UN11](https://github.com/nrflynn2/swe-molecular-sciences/blob/main/figures/L02_beam_search.png?raw=1)\n",
        "\n",
        "2. Heuristics to reduce search space (e.g., reduce $n$)\n",
        "  - Substructure search. If you know the start structure and the target structure(s), then you can narrow down sites of metabolism to consider from all sites in a molecule to only those sites that are different between the start and target structures.\n",
        "\n",
        "![UN12](https://github.com/nrflynn2/swe-molecular-sciences/blob/main/figures/L02_search_heuristics.png?raw=1)\n",
        "\n",
        "3. Iterative construction.\n",
        "  - Machine learning based. We can build out an initial version of the network, say at a depth limit of 2, then extract an \"important\" (where important can mean whatever we want it to mean) subnetwork via a deep learning model. Then, resume the network construction process on the subnetwork. Idea is build out initial network, prune irrelevant elements, then continue building out.\n",
        "  - Graph theory based. Do similar as above, but use classic centrality measures to score \"important\" metabolites and links.\n",
        "\n",
        "![UN13](https://github.com/nrflynn2/swe-molecular-sciences/blob/main/figures/L02_subnet_extraction_main_idea.png?raw=1)"
      ]
    },
    {
      "cell_type": "markdown",
      "metadata": {
        "id": "q9oR6j_-icWe"
      },
      "source": [
        "## Exercise 5: Trade-offs\n",
        "\n",
        "Several of the proposed solutions enact a trade-off that reduces the search time but might result in an output network that captures less of the full picture. Which method do you think reduces the search time the most? Which method do you think would result in greatest reduction in the quality of the network output? Why for both? Feel free to make any additional assumptions, but do state them. There is not one right answer and this question is graded primarily on your ability to justify a choice."
      ]
    },
    {
      "cell_type": "code",
      "execution_count": null,
      "metadata": {
        "id": "vlqgttcxF9Cl"
      },
      "outputs": [],
      "source": []
    }
  ],
  "metadata": {
    "colab": {
      "provenance": [],
      "include_colab_link": true
    },
    "kernelspec": {
      "display_name": "Python 3",
      "name": "python3"
    },
    "language_info": {
      "name": "python"
    }
  },
  "nbformat": 4,
  "nbformat_minor": 0
}